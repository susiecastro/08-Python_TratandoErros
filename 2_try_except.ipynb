{
 "cells": [
  {
   "cell_type": "markdown",
   "metadata": {},
   "source": [
    "### Tratando erros com o bloco\n",
    "\n",
    "try...except"
   ]
  },
  {
   "cell_type": "markdown",
   "metadata": {},
   "source": [
    "<b>Formato</b>\n",
    "\n",
    "<font color='purple'>try:</font><br>\n",
    "   <font color='green'>'código que o python irá tentar executar'</font><br>\n",
    "<font color='purple'>except:</font><br>\n",
    "    <font color='green'>'código que será executado se ocorrer uma exceção'</font><br>\n",
    "<font color='purple'>else:</font><br>\n",
    "    <font color='green'>'código que será executado quando não ocorrer a exceção (opcional)'</font><br>\n",
    "<font color='purple'>finally:</font><br>\n",
    "    <font color='green'>'código que será sempre executado (opcional)'</font><br>"
   ]
  },
  {
   "cell_type": "code",
   "execution_count": 7,
   "metadata": {},
   "outputs": [
    {
     "name": "stdout",
     "output_type": "stream",
     "text": [
      "Não é possível dividir por 0!\n",
      "programa continua...\n"
     ]
    }
   ],
   "source": [
    "# Exemplo de erro ZeroDivisionError\n",
    "\n",
    "try:\n",
    "    print (10 / 0)\n",
    "except:\n",
    "    print ('Não é possível dividir por 0!')\n",
    "\n",
    "print('programa continua...')"
   ]
  },
  {
   "cell_type": "code",
   "execution_count": 8,
   "metadata": {},
   "outputs": [
    {
     "ename": "NameError",
     "evalue": "name 'nome' is not defined",
     "output_type": "error",
     "traceback": [
      "\u001b[1;31m---------------------------------------------------------------------------\u001b[0m",
      "\u001b[1;31mNameError\u001b[0m                                 Traceback (most recent call last)",
      "\u001b[1;32mc:\\Python\\DominandoPython\\modulo8_tratando_erros\\2_try_except.ipynb Cell 4\u001b[0m line \u001b[0;36m3\n\u001b[0;32m      <a href='vscode-notebook-cell:/c%3A/Python/DominandoPython/modulo8_tratando_erros/2_try_except.ipynb#W5sZmlsZQ%3D%3D?line=0'>1</a>\u001b[0m \u001b[39m# Exemplo de erro de variável não declarada\u001b[39;00m\n\u001b[1;32m----> <a href='vscode-notebook-cell:/c%3A/Python/DominandoPython/modulo8_tratando_erros/2_try_except.ipynb#W5sZmlsZQ%3D%3D?line=2'>3</a>\u001b[0m \u001b[39mprint\u001b[39m(nome)\n",
      "\u001b[1;31mNameError\u001b[0m: name 'nome' is not defined"
     ]
    }
   ],
   "source": [
    "# Exemplo de erro de variável não declarada\n",
    "\n",
    "print(nome)\n"
   ]
  },
  {
   "cell_type": "code",
   "execution_count": 21,
   "metadata": {},
   "outputs": [
    {
     "name": "stdout",
     "output_type": "stream",
     "text": [
      "Você tentou dividir um número por 0\n",
      "Programa continua\n"
     ]
    }
   ],
   "source": [
    "try:\n",
    "    print(10 / 0)\n",
    "\n",
    "    # a exceção será trabalhada de acordo com o primeiro argumento que for passado\n",
    "    print (nome)\n",
    "except NameError:\n",
    "    print('Você tentou usar um objeto não declarado')\n",
    "except ZeroDivisionError:\n",
    "    print('Você tentou dividir um número por 0')\n",
    "except:\n",
    "    print('Ocorreu um erro de Sintaxe')\n",
    "print ('Programa continua')"
   ]
  },
  {
   "cell_type": "code",
   "execution_count": 27,
   "metadata": {},
   "outputs": [
    {
     "name": "stdout",
     "output_type": "stream",
     "text": [
      "Ocorreu o seguinte erro division by zero\n"
     ]
    }
   ],
   "source": [
    "# Capturar a mensagem de erro que deu\n",
    "# Acrescenta Exception após o except e nomeia por exemplo: er\n",
    "\n",
    "try:\n",
    "    print(10/0)\n",
    "except Exception as er: \n",
    "    print(f'Ocorreu o seguinte erro {er}')"
   ]
  },
  {
   "cell_type": "code",
   "execution_count": 32,
   "metadata": {},
   "outputs": [
    {
     "ename": "SyntaxError",
     "evalue": "invalid syntax (2411455513.py, line 5)",
     "output_type": "error",
     "traceback": [
      "\u001b[1;36m  Cell \u001b[1;32mIn[32], line 5\u001b[1;36m\u001b[0m\n\u001b[1;33m    fur i in range(10):\u001b[0m\n\u001b[1;37m        ^\u001b[0m\n\u001b[1;31mSyntaxError\u001b[0m\u001b[1;31m:\u001b[0m invalid syntax\n"
     ]
    }
   ],
   "source": [
    "# o try....except não consegue tratar SintaxError ----> porque o interpretador nem consegue\n",
    "# executar o código!\n",
    "\n",
    "try:\n",
    "    fur i in range(10):\n",
    "        print(i)\n",
    "except:\n",
    "    print('Ocorreu um erro')"
   ]
  },
  {
   "cell_type": "markdown",
   "metadata": {},
   "source": [
    "#### else e finally"
   ]
  },
  {
   "cell_type": "code",
   "execution_count": 38,
   "metadata": {},
   "outputs": [
    {
     "name": "stdout",
     "output_type": "stream",
     "text": [
      "5.0\n",
      "código que sempre vai ser executado!\n",
      "programa continua...\n"
     ]
    }
   ],
   "source": [
    "# Else se não ocorrer exceção resultado aparece\n",
    "# Finally, se houver exceção ou não sempre aparecerá o que está no finally\n",
    "\n",
    "try:\n",
    "    resultado = 10 / 2\n",
    "except:\n",
    "    print('Ocorreu um erro')\n",
    "else:\n",
    "    print(resultado)\n",
    "finally:\n",
    "    print('código que sempre vai ser executado!')\n",
    "print('programa continua...')\n"
   ]
  },
  {
   "cell_type": "code",
   "execution_count": null,
   "metadata": {},
   "outputs": [],
   "source": []
  },
  {
   "cell_type": "code",
   "execution_count": null,
   "metadata": {},
   "outputs": [],
   "source": []
  }
 ],
 "metadata": {
  "kernelspec": {
   "display_name": "base",
   "language": "python",
   "name": "python3"
  },
  "language_info": {
   "codemirror_mode": {
    "name": "ipython",
    "version": 3
   },
   "file_extension": ".py",
   "mimetype": "text/x-python",
   "name": "python",
   "nbconvert_exporter": "python",
   "pygments_lexer": "ipython3",
   "version": "3.11.5"
  }
 },
 "nbformat": 4,
 "nbformat_minor": 2
}
