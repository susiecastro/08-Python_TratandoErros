{
 "cells": [
  {
   "cell_type": "markdown",
   "metadata": {},
   "source": [
    "## Lançando exceções personalizadas com raise"
   ]
  },
  {
   "cell_type": "code",
   "execution_count": 16,
   "metadata": {},
   "outputs": [],
   "source": [
    "#Personalizando a mensagem do erro\n",
    "\n",
    "def dividir (a, b):\n",
    "    if b == 0:\n",
    "        raise ZeroDivisionError('Nunca divida um número por zero (0)')\n",
    "    return round((a / b),2)"
   ]
  },
  {
   "cell_type": "code",
   "execution_count": 15,
   "metadata": {},
   "outputs": [
    {
     "ename": "ZeroDivisionError",
     "evalue": "Nunca divida um número por zero (0)",
     "output_type": "error",
     "traceback": [
      "\u001b[1;31m---------------------------------------------------------------------------\u001b[0m",
      "\u001b[1;31mZeroDivisionError\u001b[0m                         Traceback (most recent call last)",
      "\u001b[1;32mc:\\Python\\DominandoPython\\modulo8_tratando_erros\\3_excecoes_personalizadas.ipynb Cell 3\u001b[0m line \u001b[0;36m1\n\u001b[1;32m----> <a href='vscode-notebook-cell:/c%3A/Python/DominandoPython/modulo8_tratando_erros/3_excecoes_personalizadas.ipynb#W2sZmlsZQ%3D%3D?line=0'>1</a>\u001b[0m dividir(\u001b[39m10\u001b[39m, \u001b[39m0\u001b[39m)\n",
      "\u001b[1;32mc:\\Python\\DominandoPython\\modulo8_tratando_erros\\3_excecoes_personalizadas.ipynb Cell 3\u001b[0m line \u001b[0;36m3\n\u001b[0;32m      <a href='vscode-notebook-cell:/c%3A/Python/DominandoPython/modulo8_tratando_erros/3_excecoes_personalizadas.ipynb#W2sZmlsZQ%3D%3D?line=0'>1</a>\u001b[0m \u001b[39mdef\u001b[39;00m \u001b[39mdividir\u001b[39m (a, b):\n\u001b[0;32m      <a href='vscode-notebook-cell:/c%3A/Python/DominandoPython/modulo8_tratando_erros/3_excecoes_personalizadas.ipynb#W2sZmlsZQ%3D%3D?line=1'>2</a>\u001b[0m     \u001b[39mif\u001b[39;00m b \u001b[39m==\u001b[39m \u001b[39m0\u001b[39m:\n\u001b[1;32m----> <a href='vscode-notebook-cell:/c%3A/Python/DominandoPython/modulo8_tratando_erros/3_excecoes_personalizadas.ipynb#W2sZmlsZQ%3D%3D?line=2'>3</a>\u001b[0m         \u001b[39mraise\u001b[39;00m \u001b[39mZeroDivisionError\u001b[39;00m(\u001b[39m'\u001b[39m\u001b[39mNunca divida um número por zero (0)\u001b[39m\u001b[39m'\u001b[39m)\n\u001b[0;32m      <a href='vscode-notebook-cell:/c%3A/Python/DominandoPython/modulo8_tratando_erros/3_excecoes_personalizadas.ipynb#W2sZmlsZQ%3D%3D?line=3'>4</a>\u001b[0m     \u001b[39mreturn\u001b[39;00m \u001b[39mround\u001b[39m((a \u001b[39m/\u001b[39m b),\u001b[39m2\u001b[39m)\n",
      "\u001b[1;31mZeroDivisionError\u001b[0m: Nunca divida um número por zero (0)"
     ]
    }
   ],
   "source": [
    "dividir(10, 0)"
   ]
  },
  {
   "cell_type": "code",
   "execution_count": null,
   "metadata": {},
   "outputs": [],
   "source": []
  },
  {
   "cell_type": "code",
   "execution_count": 17,
   "metadata": {},
   "outputs": [],
   "source": [
    "def dividir (a, b):\n",
    "    if b == 0:\n",
    "        raise NameError('Divisor 0')\n",
    "    return round((a / b),2)"
   ]
  },
  {
   "cell_type": "code",
   "execution_count": 18,
   "metadata": {},
   "outputs": [
    {
     "ename": "NameError",
     "evalue": "Divisor 0",
     "output_type": "error",
     "traceback": [
      "\u001b[1;31m---------------------------------------------------------------------------\u001b[0m",
      "\u001b[1;31mNameError\u001b[0m                                 Traceback (most recent call last)",
      "\u001b[1;32mc:\\Python\\DominandoPython\\modulo8_tratando_erros\\3_excecoes_personalizadas.ipynb Cell 6\u001b[0m line \u001b[0;36m1\n\u001b[1;32m----> <a href='vscode-notebook-cell:/c%3A/Python/DominandoPython/modulo8_tratando_erros/3_excecoes_personalizadas.ipynb#W6sZmlsZQ%3D%3D?line=0'>1</a>\u001b[0m dividir(\u001b[39m30\u001b[39m,\u001b[39m0\u001b[39m)\n",
      "\u001b[1;32mc:\\Python\\DominandoPython\\modulo8_tratando_erros\\3_excecoes_personalizadas.ipynb Cell 6\u001b[0m line \u001b[0;36m3\n\u001b[0;32m      <a href='vscode-notebook-cell:/c%3A/Python/DominandoPython/modulo8_tratando_erros/3_excecoes_personalizadas.ipynb#W6sZmlsZQ%3D%3D?line=0'>1</a>\u001b[0m \u001b[39mdef\u001b[39;00m \u001b[39mdividir\u001b[39m (a, b):\n\u001b[0;32m      <a href='vscode-notebook-cell:/c%3A/Python/DominandoPython/modulo8_tratando_erros/3_excecoes_personalizadas.ipynb#W6sZmlsZQ%3D%3D?line=1'>2</a>\u001b[0m     \u001b[39mif\u001b[39;00m b \u001b[39m==\u001b[39m \u001b[39m0\u001b[39m:\n\u001b[1;32m----> <a href='vscode-notebook-cell:/c%3A/Python/DominandoPython/modulo8_tratando_erros/3_excecoes_personalizadas.ipynb#W6sZmlsZQ%3D%3D?line=2'>3</a>\u001b[0m         \u001b[39mraise\u001b[39;00m \u001b[39mNameError\u001b[39;00m(\u001b[39m'\u001b[39m\u001b[39mDivisor 0\u001b[39m\u001b[39m'\u001b[39m)\n\u001b[0;32m      <a href='vscode-notebook-cell:/c%3A/Python/DominandoPython/modulo8_tratando_erros/3_excecoes_personalizadas.ipynb#W6sZmlsZQ%3D%3D?line=3'>4</a>\u001b[0m     \u001b[39mreturn\u001b[39;00m \u001b[39mround\u001b[39m((a \u001b[39m/\u001b[39m b),\u001b[39m2\u001b[39m)\n",
      "\u001b[1;31mNameError\u001b[0m: Divisor 0"
     ]
    }
   ],
   "source": [
    "dividir(30,0)"
   ]
  },
  {
   "cell_type": "code",
   "execution_count": 23,
   "metadata": {},
   "outputs": [],
   "source": [
    "def dividir3 (a, b):\n",
    "    if b == 0:\n",
    "        raise Exception('Esta função não aceita 0 no parâmetro b')\n",
    "    return round((a / b),2)"
   ]
  },
  {
   "cell_type": "code",
   "execution_count": 24,
   "metadata": {},
   "outputs": [
    {
     "ename": "Exception",
     "evalue": "Esta função não aceita 0 no parâmetro b",
     "output_type": "error",
     "traceback": [
      "\u001b[1;31m---------------------------------------------------------------------------\u001b[0m",
      "\u001b[1;31mException\u001b[0m                                 Traceback (most recent call last)",
      "\u001b[1;32mc:\\Python\\DominandoPython\\modulo8_tratando_erros\\3_excecoes_personalizadas.ipynb Cell 8\u001b[0m line \u001b[0;36m1\n\u001b[1;32m----> <a href='vscode-notebook-cell:/c%3A/Python/DominandoPython/modulo8_tratando_erros/3_excecoes_personalizadas.ipynb#X11sZmlsZQ%3D%3D?line=0'>1</a>\u001b[0m dividir3(\u001b[39m10\u001b[39m,\u001b[39m0\u001b[39m)\n",
      "\u001b[1;32mc:\\Python\\DominandoPython\\modulo8_tratando_erros\\3_excecoes_personalizadas.ipynb Cell 8\u001b[0m line \u001b[0;36m3\n\u001b[0;32m      <a href='vscode-notebook-cell:/c%3A/Python/DominandoPython/modulo8_tratando_erros/3_excecoes_personalizadas.ipynb#X11sZmlsZQ%3D%3D?line=0'>1</a>\u001b[0m \u001b[39mdef\u001b[39;00m \u001b[39mdividir3\u001b[39m (a, b):\n\u001b[0;32m      <a href='vscode-notebook-cell:/c%3A/Python/DominandoPython/modulo8_tratando_erros/3_excecoes_personalizadas.ipynb#X11sZmlsZQ%3D%3D?line=1'>2</a>\u001b[0m     \u001b[39mif\u001b[39;00m b \u001b[39m==\u001b[39m \u001b[39m0\u001b[39m:\n\u001b[1;32m----> <a href='vscode-notebook-cell:/c%3A/Python/DominandoPython/modulo8_tratando_erros/3_excecoes_personalizadas.ipynb#X11sZmlsZQ%3D%3D?line=2'>3</a>\u001b[0m         \u001b[39mraise\u001b[39;00m \u001b[39mException\u001b[39;00m(\u001b[39m'\u001b[39m\u001b[39mEsta função não aceita 0 no parâmetro b\u001b[39m\u001b[39m'\u001b[39m)\n\u001b[0;32m      <a href='vscode-notebook-cell:/c%3A/Python/DominandoPython/modulo8_tratando_erros/3_excecoes_personalizadas.ipynb#X11sZmlsZQ%3D%3D?line=3'>4</a>\u001b[0m     \u001b[39mreturn\u001b[39;00m \u001b[39mround\u001b[39m((a \u001b[39m/\u001b[39m b),\u001b[39m2\u001b[39m)\n",
      "\u001b[1;31mException\u001b[0m: Esta função não aceita 0 no parâmetro b"
     ]
    }
   ],
   "source": [
    "dividir3(10,0)"
   ]
  },
  {
   "cell_type": "code",
   "execution_count": null,
   "metadata": {},
   "outputs": [],
   "source": []
  }
 ],
 "metadata": {
  "kernelspec": {
   "display_name": "base",
   "language": "python",
   "name": "python3"
  },
  "language_info": {
   "codemirror_mode": {
    "name": "ipython",
    "version": 3
   },
   "file_extension": ".py",
   "mimetype": "text/x-python",
   "name": "python",
   "nbconvert_exporter": "python",
   "pygments_lexer": "ipython3",
   "version": "3.11.5"
  }
 },
 "nbformat": 4,
 "nbformat_minor": 2
}
